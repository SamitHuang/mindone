{
 "cells": [
  {
   "cell_type": "markdown",
   "id": "5b6e35d0",
   "metadata": {},
   "source": [
    "### Laion 2b es4.5"
   ]
  },
  {
   "cell_type": "code",
   "execution_count": 3,
   "id": "03c8e5c9",
   "metadata": {},
   "outputs": [],
   "source": [
    "import datasets\n",
    "from datasets import load_dataset"
   ]
  },
  {
   "cell_type": "code",
   "execution_count": 4,
   "id": "66fd7cc9",
   "metadata": {},
   "outputs": [
    {
     "name": "stdout",
     "output_type": "stream",
     "text": [
      "Downloading and preparing dataset parquet/default to /root/.cache/huggingface/datasets/parquet/default-94e46530464c81b4/0.0.0/14a00e99c0d15a23649d0db8944380ac81082d4b021f398733dd84f3a6c569a7...\n"
     ]
    },
    {
     "data": {
      "application/vnd.jupyter.widget-view+json": {
       "model_id": "3297ec4410cb4535acb9b5a889f20fea",
       "version_major": 2,
       "version_minor": 0
      },
      "text/plain": [
       "Downloading data files:   0%|          | 0/1 [00:00<?, ?it/s]"
      ]
     },
     "metadata": {},
     "output_type": "display_data"
    },
    {
     "data": {
      "application/vnd.jupyter.widget-view+json": {
       "model_id": "cb2f6f3571bd42a882518a5bc26e57bc",
       "version_major": 2,
       "version_minor": 0
      },
      "text/plain": [
       "Extracting data files:   0%|          | 0/1 [00:00<?, ?it/s]"
      ]
     },
     "metadata": {},
     "output_type": "display_data"
    },
    {
     "data": {
      "application/vnd.jupyter.widget-view+json": {
       "model_id": "",
       "version_major": 2,
       "version_minor": 0
      },
      "text/plain": [
       "Generating train split: 0 examples [00:00, ? examples/s]"
      ]
     },
     "metadata": {},
     "output_type": "display_data"
    },
    {
     "name": "stdout",
     "output_type": "stream",
     "text": [
      "Dataset parquet downloaded and prepared to /root/.cache/huggingface/datasets/parquet/default-94e46530464c81b4/0.0.0/14a00e99c0d15a23649d0db8944380ac81082d4b021f398733dd84f3a6c569a7. Subsequent calls will reuse this data.\n"
     ]
    },
    {
     "data": {
      "application/vnd.jupyter.widget-view+json": {
       "model_id": "a4bb5f8d11fe4b5eb9da59807be208cb",
       "version_major": 2,
       "version_minor": 0
      },
      "text/plain": [
       "  0%|          | 0/1 [00:00<?, ?it/s]"
      ]
     },
     "metadata": {},
     "output_type": "display_data"
    }
   ],
   "source": [
    "ds = load_dataset(\"parquet\", data_dir=\"/home/yx/datasets/diffusion/laion_2b_en_as4.5plus\")"
   ]
  },
  {
   "cell_type": "code",
   "execution_count": 8,
   "id": "1e679c66",
   "metadata": {},
   "outputs": [
    {
     "data": {
      "text/plain": [
       "datasets.arrow_dataset.Dataset"
      ]
     },
     "execution_count": 8,
     "metadata": {},
     "output_type": "execute_result"
    }
   ],
   "source": [
    "type(ds['train'])"
   ]
  },
  {
   "cell_type": "code",
   "execution_count": 12,
   "id": "a8fb845e",
   "metadata": {},
   "outputs": [
    {
     "data": {
      "text/plain": [
       "21440657"
      ]
     },
     "execution_count": 12,
     "metadata": {},
     "output_type": "execute_result"
    }
   ],
   "source": [
    "len(ds['train'])"
   ]
  },
  {
   "cell_type": "code",
   "execution_count": 10,
   "id": "51d36159",
   "metadata": {},
   "outputs": [
    {
     "data": {
      "text/plain": [
       "['URL',\n",
       " 'TEXT',\n",
       " 'WIDTH',\n",
       " 'HEIGHT',\n",
       " 'similarity',\n",
       " 'punsafe',\n",
       " 'pwatermark',\n",
       " 'AESTHETIC_SCORE',\n",
       " 'hash',\n",
       " '__index_level_0__']"
      ]
     },
     "execution_count": 10,
     "metadata": {},
     "output_type": "execute_result"
    }
   ],
   "source": [
    "ds['train'].column_names"
   ]
  },
  {
   "cell_type": "code",
   "execution_count": 11,
   "id": "f98cfb37",
   "metadata": {
    "scrolled": true
   },
   "outputs": [
    {
     "data": {
      "text/plain": [
       "{'URL': 'https://img1.etsystatic.com/186/0/5531524/il_340x270.1310915051_5kax.jpg',\n",
       " 'TEXT': 'Vintage Green Glass Swag Hanging Lamp Mid Century',\n",
       " 'WIDTH': 340.0,\n",
       " 'HEIGHT': 270.0,\n",
       " 'similarity': 0.3491742014884949,\n",
       " 'punsafe': 8.991600225272123e-06,\n",
       " 'pwatermark': 0.14151343703269958,\n",
       " 'AESTHETIC_SCORE': 4.751741409301758,\n",
       " 'hash': 6170073934346815248,\n",
       " '__index_level_0__': 0}"
      ]
     },
     "execution_count": 11,
     "metadata": {},
     "output_type": "execute_result"
    }
   ],
   "source": [
    "sample0 = ds['train'].__getitem__(0)"
   ]
  },
  {
   "cell_type": "markdown",
   "id": "4eb1fbf3",
   "metadata": {},
   "source": [
    "### Laion-art"
   ]
  },
  {
   "cell_type": "code",
   "execution_count": 15,
   "id": "2eae7a24",
   "metadata": {},
   "outputs": [
    {
     "name": "stdout",
     "output_type": "stream",
     "text": [
      "Downloading and preparing dataset parquet/default to /root/.cache/huggingface/datasets/parquet/default-d61c732c98ca6f56/0.0.0/14a00e99c0d15a23649d0db8944380ac81082d4b021f398733dd84f3a6c569a7...\n"
     ]
    },
    {
     "data": {
      "application/vnd.jupyter.widget-view+json": {
       "model_id": "b2758592a9ad4e308c0b5a4adc0c9ea1",
       "version_major": 2,
       "version_minor": 0
      },
      "text/plain": [
       "Downloading data files:   0%|          | 0/1 [00:00<?, ?it/s]"
      ]
     },
     "metadata": {},
     "output_type": "display_data"
    },
    {
     "data": {
      "application/vnd.jupyter.widget-view+json": {
       "model_id": "4e5b0d92c4f34a9e85a40034943f180f",
       "version_major": 2,
       "version_minor": 0
      },
      "text/plain": [
       "Extracting data files:   0%|          | 0/1 [00:00<?, ?it/s]"
      ]
     },
     "metadata": {},
     "output_type": "display_data"
    },
    {
     "data": {
      "application/vnd.jupyter.widget-view+json": {
       "model_id": "",
       "version_major": 2,
       "version_minor": 0
      },
      "text/plain": [
       "Generating train split: 0 examples [00:00, ? examples/s]"
      ]
     },
     "metadata": {},
     "output_type": "display_data"
    },
    {
     "name": "stdout",
     "output_type": "stream",
     "text": [
      "Dataset parquet downloaded and prepared to /root/.cache/huggingface/datasets/parquet/default-d61c732c98ca6f56/0.0.0/14a00e99c0d15a23649d0db8944380ac81082d4b021f398733dd84f3a6c569a7. Subsequent calls will reuse this data.\n"
     ]
    },
    {
     "data": {
      "application/vnd.jupyter.widget-view+json": {
       "model_id": "558ff75f1fda47cca09358cf65a639d7",
       "version_major": 2,
       "version_minor": 0
      },
      "text/plain": [
       "  0%|          | 0/1 [00:00<?, ?it/s]"
      ]
     },
     "metadata": {},
     "output_type": "display_data"
    }
   ],
   "source": [
    "art = load_dataset(\"parquet\", data_dir=\"/home/yx/datasets/diffusion/laion_art\")"
   ]
  },
  {
   "cell_type": "code",
   "execution_count": 16,
   "id": "452ec807",
   "metadata": {},
   "outputs": [
    {
     "data": {
      "text/plain": [
       "{'URL': 'https://www.advocate-art.com/system/ART/Modules/Application/Images/Image/images/000/011/121/artistique_half/VML175107.jpg?6f71107bead7921d03fa7dc3e4ac4b9a8f24dfd3d823d512d7618c06e4059513',\n",
       " 'TEXT': 'Christmas Shopping Copy',\n",
       " 'WIDTH': 850,\n",
       " 'HEIGHT': 850,\n",
       " 'similarity': 0.2666246294975281,\n",
       " 'LANGUAGE': 'nolang',\n",
       " 'hash': -3604776403351267688,\n",
       " 'pwatermark': 0.0396263524889946,\n",
       " 'punsafe': 0.00027811527252197266,\n",
       " 'aesthetic': 8.352225303649902}"
      ]
     },
     "execution_count": 16,
     "metadata": {},
     "output_type": "execute_result"
    }
   ],
   "source": [
    "art['train'].__getitem__(0)"
   ]
  },
  {
   "cell_type": "code",
   "execution_count": 17,
   "id": "94094067",
   "metadata": {
    "scrolled": true
   },
   "outputs": [
    {
     "data": {
      "text/plain": [
       "8070941"
      ]
     },
     "execution_count": 17,
     "metadata": {},
     "output_type": "execute_result"
    }
   ],
   "source": [
    "len(art['train'])"
   ]
  },
  {
   "cell_type": "code",
   "execution_count": 25,
   "id": "f472b8c0",
   "metadata": {
    "scrolled": true
   },
   "outputs": [
    {
     "data": {
      "text/plain": [
       "807094.1000000001"
      ]
     },
     "execution_count": 25,
     "metadata": {},
     "output_type": "execute_result"
    }
   ],
   "source": [
    "8070941 * 0.1"
   ]
  },
  {
   "cell_type": "markdown",
   "id": "ae453b03",
   "metadata": {},
   "source": [
    "### Filtering and Download"
   ]
  },
  {
   "cell_type": "code",
   "execution_count": 28,
   "id": "1339ca84",
   "metadata": {
    "scrolled": true
   },
   "outputs": [
    {
     "name": "stderr",
     "output_type": "stream",
     "text": [
      "23/07/13 02:52:57 WARN Utils: Your hostname, zhengwei03 resolves to a loopback address: 127.0.0.1; using 10.90.53.110 instead (on interface enp98s0f1)\n",
      "23/07/13 02:52:57 WARN Utils: Set SPARK_LOCAL_IP if you need to bind to another address\n",
      "Setting default log level to \"WARN\".\n",
      "To adjust logging level use sc.setLogLevel(newLevel). For SparkR, use setLogLevel(newLevel).\n",
      "23/07/13 02:52:58 WARN NativeCodeLoader: Unable to load native-hadoop library for your platform... using builtin-java classes where applicable\n",
      "/root/miniconda3/envs/ms20_py37/lib/python3.7/site-packages/pyspark/context.py:317: FutureWarning: Python 3.7 support is deprecated in Spark 3.4.\n",
      "  warnings.warn(\"Python 3.7 support is deprecated in Spark 3.4.\", FutureWarning)\n",
      "                                                                                \r"
     ]
    }
   ],
   "source": [
    "from pyspark.sql import SparkSession\n",
    "import pyspark.sql.functions as F\n",
    "from pyspark.sql.functions import rand\n",
    "\n",
    "#def filter_parquet(data_path_or_dir, width=None, height=None):\n",
    "data_path_or_dir='/home/yx/datasets/diffusion/laion_art'\n",
    "filter_width=512\n",
    "filter_height=512\n",
    "num_repartitions = 1\n",
    "output_dir = '/data3/datasets/laion_art_filtered'\n",
    "\n",
    "spark = SparkSession.builder.config(\"spark.driver.memory\", \"16G\") .master(\"local[16]\").appName('spark-stats').getOrCreate() \n",
    "df = spark.read.parquet(data_path_or_dir)\n",
    "\n"
   ]
  },
  {
   "cell_type": "code",
   "execution_count": 43,
   "id": "36032c22",
   "metadata": {},
   "outputs": [
    {
     "data": {
      "text/plain": [
       "StructType([StructField('URL', StringType(), True), StructField('TEXT', StringType(), True), StructField('WIDTH', IntegerType(), True), StructField('HEIGHT', IntegerType(), True), StructField('similarity', DoubleType(), True), StructField('LANGUAGE', StringType(), True), StructField('hash', LongType(), True), StructField('pwatermark', FloatType(), True), StructField('punsafe', FloatType(), True), StructField('aesthetic', FloatType(), True)])"
      ]
     },
     "execution_count": 43,
     "metadata": {},
     "output_type": "execute_result"
    }
   ],
   "source": [
    "df.schema"
   ]
  },
  {
   "cell_type": "code",
   "execution_count": 36,
   "id": "bd5a62c4",
   "metadata": {
    "scrolled": true
   },
   "outputs": [
    {
     "name": "stdout",
     "output_type": "stream",
     "text": [
      "root\n",
      " |-- URL: string (nullable = true)\n",
      " |-- TEXT: string (nullable = true)\n",
      " |-- WIDTH: integer (nullable = true)\n",
      " |-- HEIGHT: integer (nullable = true)\n",
      " |-- similarity: double (nullable = true)\n",
      " |-- LANGUAGE: string (nullable = true)\n",
      " |-- hash: long (nullable = true)\n",
      " |-- pwatermark: float (nullable = true)\n",
      " |-- punsafe: float (nullable = true)\n",
      " |-- aesthetic: float (nullable = true)\n",
      "\n"
     ]
    }
   ],
   "source": [
    "df.printSchema()"
   ]
  },
  {
   "cell_type": "code",
   "execution_count": 38,
   "id": "44f3b5e8",
   "metadata": {
    "scrolled": true
   },
   "outputs": [
    {
     "name": "stdout",
     "output_type": "stream",
     "text": [
      "+--------------------+--------------------+-----+------+-------------------+--------+--------------------+-----------+------------+---------+\n",
      "|                 URL|                TEXT|WIDTH|HEIGHT|         similarity|LANGUAGE|                hash| pwatermark|     punsafe|aesthetic|\n",
      "+--------------------+--------------------+-----+------+-------------------+--------+--------------------+-----------+------------+---------+\n",
      "|https://www.advoc...|Christmas Shoppin...|  850|   850| 0.2666246294975281|  nolang|-3604776403351267688|0.039626352|2.7811527E-4| 8.352225|\n",
      "|https://img.freep...|Cremiger hüttenkä...|  626|   415| 0.2779805064201355|      de|  571058205933102479| 0.06443764|0.0011278689| 8.013723|\n",
      "|https://zakarpat....|A. Landovska Brea...|  300|   344|0.28194114565849304|      sv|-8455279219565229056|0.023449354|2.2380891E-5|8.0435295|\n",
      "|https://www.povar...|Рецепт: Воздушные...|  330|   220| 0.2608181834220886|      ru|-3137830403123787972| 0.33741534|0.0047357082| 8.149608|\n",
      "|http://media.inde...|For nearly a deca...|  320|   200|0.37733566761016846|      en|-7379866731095810216| 0.06550119| 0.014703572| 9.041004|\n",
      "|https://www.museu...|Museum Safien - e...|  480|   305| 0.2889813184738159|      de|-4954801954747923679|0.023896359|4.1609303E-5| 8.095767|\n",
      "|https://img.freep...|Toster Z Chlebem ...|  338|   338|0.28315386176109314|      pl| 7887281063534456646|  0.1118929|0.0049453676| 8.419249|\n",
      "|https://www.famil...|Mothers  Day Cake...|  570|   570|0.31916776299476624|      en| 1617227522858198339| 0.08863218|1.9230196E-5|8.0656185|\n",
      "|https://render.fi...|Early Bus by Art ...|  470|   350|0.31298503279685974|      en| 2735427921243470250|0.073840894|1.1422863E-4| 8.243217|\n",
      "|https://www.romad...|Laboratorio di fu...|  553|   350|  0.272055447101593|      it|-4036558563072918821| 0.05688874|0.0027873218| 8.139505|\n",
      "|https://heybruce....|Virgina Grist Mil...|  450|   299|0.28429847955703735|      fi| 2582498799955865931| 0.21927965| 4.157945E-6|  8.49151|\n",
      "|http://stilista.r...|Эти три продукта ...|  500|   300|  0.276058554649353|      ru|  894546357244779838|0.056092948| 7.612407E-4| 8.061651|\n",
      "|http://www.mirkre...|Научиться рукодел...|  600|   484| 0.2755393385887146|      ru|-6001222736983637378| 0.04447572| 0.044217676| 8.282854|\n",
      "|https://dealeracc...|  1933 Ford 3 Window|  790|   527|0.26345381140708923|  nolang|  773322750406661445| 0.27806047|1.3241172E-4| 8.133928|\n",
      "|https://cdn.sanit...|Ngorongoro Crater...|  640|   302|0.31629541516304016|      en|-8696004671089866836|0.071926974| 3.530383E-4| 8.195078|\n",
      "|https://mavenofma...|Wynn Palace flowe...| 1500|   996| 0.3105770945549011|      cy| 2026716684834183735|0.098000355|4.7619757E-5| 8.064115|\n",
      "|https://www.piccl...|Stickbild Kirsche...|  400|   329| 0.2686363756656647|      de|-5152987833348598022| 0.14559337|3.4452894E-6| 8.026577|\n",
      "|https://thumbs.dr...|Λίγη συνεδρίαση σ...|  240|   160| 0.2714686095714569|      el|-6094525662928543318| 0.06566151|1.4868379E-4| 8.155288|\n",
      "|https://icdn.lent...|Японцы предложили...|  420|   280| 0.2874271869659424|      ru|-7281180988008222973|0.043250874|  0.06578249| 8.636527|\n",
      "|https://cf.ltkcdn...|          Mrs. Claus|  340|   226| 0.2865701913833618|      la|-2050282706965401034| 0.13816398| 0.049667537| 8.292753|\n",
      "+--------------------+--------------------+-----+------+-------------------+--------+--------------------+-----------+------------+---------+\n",
      "only showing top 20 rows\n",
      "\n"
     ]
    }
   ],
   "source": [
    "df.show()"
   ]
  },
  {
   "cell_type": "code",
   "execution_count": 44,
   "id": "3c36f3bf",
   "metadata": {},
   "outputs": [
    {
     "data": {
      "text/plain": [
       "8070941"
      ]
     },
     "execution_count": 44,
     "metadata": {},
     "output_type": "execute_result"
    }
   ],
   "source": [
    "df.count()"
   ]
  },
  {
   "cell_type": "code",
   "execution_count": 47,
   "id": "3082ec1d",
   "metadata": {},
   "outputs": [
    {
     "data": {
      "text/plain": [
       "True"
      ]
     },
     "execution_count": 47,
     "metadata": {},
     "output_type": "execute_result"
    }
   ],
   "source": [
    "\"WIDTH\" in df.schema.names"
   ]
  },
  {
   "cell_type": "code",
   "execution_count": 57,
   "id": "607e3853",
   "metadata": {
    "scrolled": true
   },
   "outputs": [
    {
     "name": "stderr",
     "output_type": "stream",
     "text": [
      "                                                                                \r"
     ]
    }
   ],
   "source": [
    "if \"WIDTH\" in df.schema.names:\n",
    "    df = df.filter((df.WIDTH >= filter_width) & (df.HEIGHT >= filter_height) & (df.LANGUAGE == 'en'))\n",
    "else:\n",
    "    df = df.filter((df.width >= filter_width) & (df.height >= filter_height) & (df.language == 'en'))\n",
    "df = df.orderBy(rand()) # this line is important to have a shuffled dataset\n",
    "df.repartition(num_repartitions).write.parquet(output_dir)"
   ]
  },
  {
   "cell_type": "code",
   "execution_count": 58,
   "id": "505eca14",
   "metadata": {},
   "outputs": [
    {
     "data": {
      "text/plain": [
       "947191"
      ]
     },
     "execution_count": 58,
     "metadata": {},
     "output_type": "execute_result"
    }
   ],
   "source": [
    "df.count()"
   ]
  },
  {
   "cell_type": "code",
   "execution_count": 59,
   "id": "002acc43",
   "metadata": {},
   "outputs": [
    {
     "data": {
      "text/plain": [
       "0.11735818661045844"
      ]
     },
     "execution_count": 59,
     "metadata": {},
     "output_type": "execute_result"
    }
   ],
   "source": [
    "947191/8070941"
   ]
  },
  {
   "cell_type": "code",
   "execution_count": 61,
   "id": "88f33206",
   "metadata": {
    "scrolled": true
   },
   "outputs": [
    {
     "name": "stderr",
     "output_type": "stream",
     "text": [
      "                                                                                \r"
     ]
    },
    {
     "name": "stdout",
     "output_type": "stream",
     "text": [
      "+--------------------+--------------------+-----+------+-------------------+--------+--------------------+-----------+-------------+---------+\n",
      "|                 URL|                TEXT|WIDTH|HEIGHT|         similarity|LANGUAGE|                hash| pwatermark|      punsafe|aesthetic|\n",
      "+--------------------+--------------------+-----+------+-------------------+--------+--------------------+-----------+-------------+---------+\n",
      "|https://hummerlim...|Rolls Royce Phant...|  650|   520|0.34669220447540283|      en| 5889462542762778472| 0.28046012| 4.2948127E-4| 8.052956|\n",
      "|https://www.carte...|Carters Steam Fai...| 1024|   576| 0.3125453293323517|      en| 2673312839296505774| 0.10378556|1.07132855E-5| 8.449714|\n",
      "|https://cdn.shopi...|Watermelon One Pi...| 2048|  2048| 0.3144088089466095|      en|-7418655568329552979| 0.39337602| 0.0045395494| 8.104291|\n",
      "|https://www.digsd...|Awesome Midsummer...|  595|   752|0.33127641677856445|      en| 5427967376058518284| 0.04007358|  2.413094E-4|  8.30234|\n",
      "|https://img0.etsy...|Reserved Pale Pin...|  570|   922|0.35590800642967224|      en| 9167507558997104005| 0.09508891| 0.0018168092| 8.225511|\n",
      "|https://www.ultim...|Maserati 8CM - Ch...| 1024|   683|0.34295085072517395|      en| 1721806699345928102| 0.07702061|  7.054321E-5| 8.278413|\n",
      "|https://i0.wp.com...|strawberry-crepe-...|  840|  1260|0.34222644567489624|      en| 7657015678766775844|0.085829824| 2.4655259E-5|  8.11099|\n",
      "|https://i.pinimg....|regency tea colle...|  600|   900| 0.3163638412952423|      en|-3013693145600003179| 0.25236169|   6.60111E-5| 8.146956|\n",
      "|https://i.pinimg....|Bridal Shower 101...| 1365|  2048|0.34132301807403564|      en|-3045984086087880341| 0.07272031| 1.1359225E-4| 9.022598|\n",
      "|https://www.sport...|1990 Ferrari F40 ...|  900|   522| 0.3322845995426178|      en|-3415110381451221846|0.121353276| 1.6406178E-4| 8.001527|\n",
      "+--------------------+--------------------+-----+------+-------------------+--------+--------------------+-----------+-------------+---------+\n",
      "only showing top 10 rows\n",
      "\n"
     ]
    }
   ],
   "source": [
    "df.show(10)"
   ]
  },
  {
   "cell_type": "code",
   "execution_count": 49,
   "id": "f8499dac",
   "metadata": {},
   "outputs": [
    {
     "data": {
      "text/plain": [
       "2378491"
      ]
     },
     "execution_count": 49,
     "metadata": {},
     "output_type": "execute_result"
    }
   ],
   "source": [
    "# no lang filter\n",
    "df.count()"
   ]
  },
  {
   "cell_type": "code",
   "execution_count": 50,
   "id": "62ca0868",
   "metadata": {},
   "outputs": [
    {
     "data": {
      "text/plain": [
       "0.2946981027367193"
      ]
     },
     "execution_count": 50,
     "metadata": {},
     "output_type": "execute_result"
    }
   ],
   "source": [
    "keep_ratio = 2378491/8070941\n",
    "keep_ratio"
   ]
  },
  {
   "cell_type": "code",
   "execution_count": 51,
   "id": "8b2d9436",
   "metadata": {},
   "outputs": [
    {
     "data": {
      "text/plain": [
       "['URL',\n",
       " 'TEXT',\n",
       " 'WIDTH',\n",
       " 'HEIGHT',\n",
       " 'similarity',\n",
       " 'LANGUAGE',\n",
       " 'hash',\n",
       " 'pwatermark',\n",
       " 'punsafe',\n",
       " 'aesthetic']"
      ]
     },
     "execution_count": 51,
     "metadata": {},
     "output_type": "execute_result"
    }
   ],
   "source": [
    "df.schema.names"
   ]
  },
  {
   "cell_type": "code",
   "execution_count": null,
   "id": "865d4831",
   "metadata": {},
   "outputs": [],
   "source": []
  },
  {
   "cell_type": "markdown",
   "id": "f575abfc",
   "metadata": {},
   "source": [
    "## LAION 2b-en ori"
   ]
  },
  {
   "cell_type": "code",
   "execution_count": 19,
   "id": "5068eeb2",
   "metadata": {},
   "outputs": [
    {
     "name": "stdout",
     "output_type": "stream",
     "text": [
      "Downloading and preparing dataset parquet/default to /root/.cache/huggingface/datasets/parquet/default-d308bf0fa364f6e6/0.0.0/14a00e99c0d15a23649d0db8944380ac81082d4b021f398733dd84f3a6c569a7...\n"
     ]
    },
    {
     "data": {
      "application/vnd.jupyter.widget-view+json": {
       "model_id": "eaf1402bac6641d8817f63fde18913e5",
       "version_major": 2,
       "version_minor": 0
      },
      "text/plain": [
       "Downloading data files:   0%|          | 0/1 [00:00<?, ?it/s]"
      ]
     },
     "metadata": {},
     "output_type": "display_data"
    },
    {
     "data": {
      "application/vnd.jupyter.widget-view+json": {
       "model_id": "54befafa4c6f45f7b4a951d609fcc7a3",
       "version_major": 2,
       "version_minor": 0
      },
      "text/plain": [
       "Extracting data files:   0%|          | 0/1 [00:00<?, ?it/s]"
      ]
     },
     "metadata": {},
     "output_type": "display_data"
    },
    {
     "data": {
      "application/vnd.jupyter.widget-view+json": {
       "model_id": "",
       "version_major": 2,
       "version_minor": 0
      },
      "text/plain": [
       "Generating train split: 0 examples [00:00, ? examples/s]"
      ]
     },
     "metadata": {},
     "output_type": "display_data"
    },
    {
     "name": "stdout",
     "output_type": "stream",
     "text": [
      "Dataset parquet downloaded and prepared to /root/.cache/huggingface/datasets/parquet/default-d308bf0fa364f6e6/0.0.0/14a00e99c0d15a23649d0db8944380ac81082d4b021f398733dd84f3a6c569a7. Subsequent calls will reuse this data.\n"
     ]
    },
    {
     "data": {
      "application/vnd.jupyter.widget-view+json": {
       "model_id": "2cce0ae577a449799c690ca0b523f8c4",
       "version_major": 2,
       "version_minor": 0
      },
      "text/plain": [
       "  0%|          | 0/1 [00:00<?, ?it/s]"
      ]
     },
     "metadata": {},
     "output_type": "display_data"
    }
   ],
   "source": [
    "ori  = load_dataset(\"parquet\", data_dir=\"/home/yx/datasets/diffusion/laion_2b_en\")"
   ]
  },
  {
   "cell_type": "code",
   "execution_count": 22,
   "id": "a0dd89ae",
   "metadata": {},
   "outputs": [
    {
     "data": {
      "text/plain": [
       "18141938"
      ]
     },
     "execution_count": 22,
     "metadata": {},
     "output_type": "execute_result"
    }
   ],
   "source": [
    "len(ori['train'])"
   ]
  },
  {
   "cell_type": "code",
   "execution_count": 21,
   "id": "c773b752",
   "metadata": {},
   "outputs": [
    {
     "data": {
      "text/plain": [
       "DatasetDict({\n",
       "    train: Dataset({\n",
       "        features: ['SAMPLE_ID', 'URL', 'TEXT', 'HEIGHT', 'WIDTH', 'LICENSE', 'NSFW', 'similarity'],\n",
       "        num_rows: 18141938\n",
       "    })\n",
       "})"
      ]
     },
     "execution_count": 21,
     "metadata": {},
     "output_type": "execute_result"
    }
   ],
   "source": [
    "ori"
   ]
  },
  {
   "cell_type": "code",
   "execution_count": 23,
   "id": "6f0a6de0",
   "metadata": {
    "scrolled": true
   },
   "outputs": [
    {
     "data": {
      "text/plain": [
       "{'SAMPLE_ID': 2641080021034,\n",
       " 'URL': 'https://cdn.shopify.com/s/files/1/0017/3621/2538/products/blue-beach-umbrellas-point-of-rocks-crescent-beach-siesta-key-shawn-mcloughlin_32d72f5b-5e55-42f9-bfcf-d6fa8d239beb_300x300.jpg?v=1524171284',\n",
       " 'TEXT': 'Blue Beach Umbrellas, Point Of Rocks, Crescent Beach, Siesta Key - Spiral Notebook',\n",
       " 'HEIGHT': 231,\n",
       " 'WIDTH': 300,\n",
       " 'LICENSE': '?',\n",
       " 'NSFW': 'UNLIKELY',\n",
       " 'similarity': 0.3955616354942322}"
      ]
     },
     "execution_count": 23,
     "metadata": {},
     "output_type": "execute_result"
    }
   ],
   "source": [
    "ori['train'].__getitem__(0)"
   ]
  },
  {
   "cell_type": "code",
   "execution_count": 62,
   "id": "2e96acf8",
   "metadata": {},
   "outputs": [
    {
     "data": {
      "text/plain": [
       "['fusion_result.json',\n",
       " 'rank_0',\n",
       " \"':w\",\n",
       " 'test_load_laion.ipynb',\n",
       " 'rank_1',\n",
       " 'tools',\n",
       " 'arch_params.txt',\n",
       " 'download_laion_imgs.sh',\n",
       " 'demo.md',\n",
       " 'utils',\n",
       " 'output_sd1x',\n",
       " 'schedulers.md',\n",
       " 'params_ori.txt',\n",
       " 'train_text_to_image.py',\n",
       " 'laion_check_and_convert.py',\n",
       " 'laion_filter_metadata.py',\n",
       " '.laion_train.md.swp',\n",
       " 'nohup.out',\n",
       " '.laion_filter_metadata.py.swp',\n",
       " 'bpe_simple_vocab_16e6.txt.gz',\n",
       " 'test_ge.py',\n",
       " 'infer_ge.sh',\n",
       " 'Untitled.ipynb',\n",
       " '.laion_check_and_convert.py.swp',\n",
       " 'arch.txt',\n",
       " 'demo_res.ipynb',\n",
       " 'requirements.txt',\n",
       " 'test_lora_ori_net.ckpt',\n",
       " '.ipynb_checkpoints',\n",
       " 'output',\n",
       " 'test_lora_tp_after_ft.ckpt',\n",
       " 'train_autoencoder.py',\n",
       " 'lora_finetune.md',\n",
       " 'test_load_laion.py',\n",
       " '.download_laion_imgs.sh.swp',\n",
       " 'scripts',\n",
       " 'kernel_meta_temp_f87b28a10d8fafc3e16fe1b9ae8d913dadc9bee95d1a8140e304f8db9e4d8086',\n",
       " 'ckpt_ana_res.txt',\n",
       " 'models',\n",
       " 'laion_train.md',\n",
       " 'ldm',\n",
       " 'bak',\n",
       " '__pycache__',\n",
       " 'analyze_ckpt.py',\n",
       " 'convert_dataset.py',\n",
       " 'laion-art',\n",
       " ';',\n",
       " 'arch_lora.txt',\n",
       " 'tests',\n",
       " 'params_lora.txt',\n",
       " 'arch_infer.txt',\n",
       " 'check_ms_save.py',\n",
       " 'configs',\n",
       " 'test_lora_net_after_ft.ckpt',\n",
       " 'running.log',\n",
       " 'text_to_image.py.bak',\n",
       " 'eval',\n",
       " '.convert_dataset.py.swp',\n",
       " 'test_tmp.sh',\n",
       " 'text_to_image.py',\n",
       " 'README.md']"
      ]
     },
     "execution_count": 62,
     "metadata": {},
     "output_type": "execute_result"
    }
   ],
   "source": [
    "import os\n",
    "\n",
    "os.listdir(\".\")"
   ]
  }
 ],
 "metadata": {
  "kernelspec": {
   "display_name": "ms20_py37",
   "language": "python",
   "name": "ms20_py37"
  },
  "language_info": {
   "codemirror_mode": {
    "name": "ipython",
    "version": 3
   },
   "file_extension": ".py",
   "mimetype": "text/x-python",
   "name": "python",
   "nbconvert_exporter": "python",
   "pygments_lexer": "ipython3",
   "version": "3.7.16"
  }
 },
 "nbformat": 4,
 "nbformat_minor": 5
}
